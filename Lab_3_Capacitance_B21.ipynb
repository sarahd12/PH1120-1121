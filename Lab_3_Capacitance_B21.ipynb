{
 "cells": [
  {
   "cell_type": "code",
   "execution_count": 6,
   "metadata": {},
   "outputs": [],
   "source": [
    "#------------------------------\n",
    "# Copyright Anna Mederer 2021\n",
    "#------------------------------\n",
    "\n",
    "# Resistor value and uncertainty\n",
    "R = 22000\n",
    "Ru = R * 0.05\n",
    "\n",
    "# Theoretical capacitor values and uncertainty\n",
    "C1t = 0.0002\n",
    "C1t_u = C1t * 0.1\n",
    "C2t = 0.000051\n",
    "C2t_u = C1t * 0.2\n",
    "\n",
    "# C parameter values from LoggerPro\n",
    "p1 = 4.6 \n",
    "p2 = 0.97 \n",
    "ps = 5.5\n",
    "pp = 0.8 \n",
    "\n",
    "# C parameter uncertainty values from LoggerPro\n",
    "p_u1 = 0.0011\n",
    "p_u2 = 0.0012\n",
    "p_us = 0.0013\n",
    "p_up = 0.0014"
   ]
  },
  {
   "cell_type": "code",
   "execution_count": 5,
   "metadata": {},
   "outputs": [
    {
     "name": "stdout",
     "output_type": "stream",
     "text": [
      "Cap 1 experimental = 9.881 +/- 0.496 uF\n",
      "Cap 2 experimental = 46.86 +/- 2.401 uF\n",
      "Cap Series experimental = 8.264 +/- 0.415 uF\n",
      "Cap Parallel experimental = 56.818 +/- 2.933 uF\n",
      "\n",
      "Cap 1 theoretical = 10.0 +/- 1.0 uF\n",
      "Cap 2 theoretical = 47.0 +/- 2.0 uF\n",
      "Cap Series theoretical = 8.246 +/- 0.741 uF\n",
      "Cap Parallel theoretical = 57.0 +/- 3.0 uF\n"
     ]
    }
   ],
   "source": [
    "# Series and parallel capacitor equations\n",
    "Cpt = C1t + C2t\n",
    "Cst = 1/(1/C1t + 1/C2t)\n",
    "\n",
    "# Functions\n",
    "def calcCap(parameter): # calculate capacitance from the C parameter\n",
    "    return 1 / (R*parameter)\n",
    "\n",
    "def uncerMD(A, x, dx, y, dy): # calculate the uncertainty for measurements with * or /\n",
    "    return (dx/x +dy/y)*A\n",
    "\n",
    "def showCap(cap, uncer, name): # print the capacitance and uncertainty in microFarads\n",
    "    print(\"Cap\", name, \"=\", (round(cap/0.000001, 3)), \"+/-\", (round(uncer/0.000001, 3)), \"uF\")\n",
    "    return\n",
    "\n",
    "# Calculate experimental capacitance\n",
    "C1e = calcCap(p1)\n",
    "C2e = calcCap(p2)\n",
    "Cse = calcCap(ps)\n",
    "Cpe = calcCap(pp)\n",
    "\n",
    "# Calculate experimental uncertainty\n",
    "C1eu = uncerMD(C1e, R, Ru, p1, p_u1)\n",
    "C2eu = uncerMD(C2e, R, Ru, p2, p_u2)\n",
    "Cseu = uncerMD(Cse, R, Ru, ps, p_up)\n",
    "Cpeu = uncerMD(Cpe, R, Ru, pp, p_us)\n",
    "\n",
    "\n",
    "# Calculate theoretical series and parallel uncertainty\n",
    "Cst_u = ((C2t)**2 / (C1t + C2t)**2)*C1t_u + ((C1t)**2 / (C1t + C2t)**2)*C2t_u\n",
    "Cpt_u = C1t_u + C2t_u\n",
    "\n",
    "# show experimental capacitor values\n",
    "showCap(C1e, C1eu, \"1 experimental\")\n",
    "showCap(C2e, C2eu, \"2 experimental\")\n",
    "showCap(Cse, Cseu, \"Series experimental\")\n",
    "showCap(Cpe, Cpeu, \"Parallel experimental\")\n",
    "print()\n",
    "\n",
    "# show theoretical capacitor values\n",
    "showCap(C1t, C1t_u, \"1 theoretical\")\n",
    "showCap(C2t, C2t_u, \"2 theoretical\")\n",
    "showCap(Cst, Cst_u, \"Series theoretical\")\n",
    "showCap(Cpt, Cpt_u, \"Parallel theoretical\")"
   ]
  },
  {
   "cell_type": "code",
   "execution_count": null,
   "metadata": {},
   "outputs": [],
   "source": []
  }
 ],
 "metadata": {
  "kernelspec": {
   "display_name": "Python 3",
   "language": "python",
   "name": "python3"
  },
  "language_info": {
   "codemirror_mode": {
    "name": "ipython",
    "version": 3
   },
   "file_extension": ".py",
   "mimetype": "text/x-python",
   "name": "python",
   "nbconvert_exporter": "python",
   "pygments_lexer": "ipython3",
   "version": "3.7.0"
  }
 },
 "nbformat": 4,
 "nbformat_minor": 2
}
